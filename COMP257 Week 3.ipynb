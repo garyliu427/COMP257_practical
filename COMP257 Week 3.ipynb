{
 "cells": [
  {
   "cell_type": "markdown",
   "metadata": {},
   "source": [
    "The goal of this week's workshop is to become familiar with the Pandas `DataFrame` data structure and begin looking at some simple data analysis and visualisation.   We'll look at two sample data sets and perform some analysis on them."
   ]
  },
  {
   "cell_type": "code",
   "execution_count": 1,
   "metadata": {},
   "outputs": [],
   "source": [
    "student_name = \"Xiaotian Liu\"\n",
    "student_id = \"44410573\""
   ]
  },
  {
   "cell_type": "code",
   "execution_count": 2,
   "metadata": {},
   "outputs": [],
   "source": [
    "import pandas as pd\n",
    "import numpy as np\n",
    "import matplotlib.pyplot as plt\n",
    "%matplotlib inline"
   ]
  },
  {
   "cell_type": "markdown",
   "metadata": {},
   "source": [
    "## Auto MPG Data\n",
    "\n",
    "Our first exercise is with some data on cars from the US containing information about car size and power and fuel consumption (miles per gallon or mpg).   We'll use this to explore the Pandas `DataFrame` options for selecting and plotting data and for computing statistics over columns. \n",
    "\n",
    "First we read the data using `pd.read_table` since the data ([auto-mpg.data](files/auto-mpg.data)) is in a \n",
    "space separated tabular format (take a look at the raw data to see what this means).   I've added an \n",
    "explicit list of column headings and some options to `read_table` to get the data in the right format."
   ]
  },
  {
   "cell_type": "code",
   "execution_count": 3,
   "metadata": {},
   "outputs": [
    {
     "name": "stderr",
     "output_type": "stream",
     "text": [
      "C:\\ProgramData\\Anaconda3\\lib\\site-packages\\ipykernel_launcher.py:2: FutureWarning: read_table is deprecated, use read_csv instead, passing sep='\\t'.\n",
      "  \n"
     ]
    },
    {
     "data": {
      "text/html": [
       "<div>\n",
       "<style scoped>\n",
       "    .dataframe tbody tr th:only-of-type {\n",
       "        vertical-align: middle;\n",
       "    }\n",
       "\n",
       "    .dataframe tbody tr th {\n",
       "        vertical-align: top;\n",
       "    }\n",
       "\n",
       "    .dataframe thead th {\n",
       "        text-align: right;\n",
       "    }\n",
       "</style>\n",
       "<table border=\"1\" class=\"dataframe\">\n",
       "  <thead>\n",
       "    <tr style=\"text-align: right;\">\n",
       "      <th></th>\n",
       "      <th>mpg</th>\n",
       "      <th>cylinders</th>\n",
       "      <th>displacement</th>\n",
       "      <th>horsepower</th>\n",
       "      <th>weight</th>\n",
       "      <th>acceleration</th>\n",
       "      <th>modelyear</th>\n",
       "      <th>origin</th>\n",
       "      <th>name</th>\n",
       "    </tr>\n",
       "  </thead>\n",
       "  <tbody>\n",
       "    <tr>\n",
       "      <th>0</th>\n",
       "      <td>18.0</td>\n",
       "      <td>8</td>\n",
       "      <td>307.0</td>\n",
       "      <td>130.0</td>\n",
       "      <td>3504.0</td>\n",
       "      <td>12.0</td>\n",
       "      <td>70</td>\n",
       "      <td>1</td>\n",
       "      <td>chevrolet chevelle malibu</td>\n",
       "    </tr>\n",
       "    <tr>\n",
       "      <th>1</th>\n",
       "      <td>15.0</td>\n",
       "      <td>8</td>\n",
       "      <td>350.0</td>\n",
       "      <td>165.0</td>\n",
       "      <td>3693.0</td>\n",
       "      <td>11.5</td>\n",
       "      <td>70</td>\n",
       "      <td>1</td>\n",
       "      <td>buick skylark 320</td>\n",
       "    </tr>\n",
       "    <tr>\n",
       "      <th>2</th>\n",
       "      <td>18.0</td>\n",
       "      <td>8</td>\n",
       "      <td>318.0</td>\n",
       "      <td>150.0</td>\n",
       "      <td>3436.0</td>\n",
       "      <td>11.0</td>\n",
       "      <td>70</td>\n",
       "      <td>1</td>\n",
       "      <td>plymouth satellite</td>\n",
       "    </tr>\n",
       "    <tr>\n",
       "      <th>3</th>\n",
       "      <td>16.0</td>\n",
       "      <td>8</td>\n",
       "      <td>304.0</td>\n",
       "      <td>150.0</td>\n",
       "      <td>3433.0</td>\n",
       "      <td>12.0</td>\n",
       "      <td>70</td>\n",
       "      <td>1</td>\n",
       "      <td>amc rebel sst</td>\n",
       "    </tr>\n",
       "    <tr>\n",
       "      <th>4</th>\n",
       "      <td>17.0</td>\n",
       "      <td>8</td>\n",
       "      <td>302.0</td>\n",
       "      <td>140.0</td>\n",
       "      <td>3449.0</td>\n",
       "      <td>10.5</td>\n",
       "      <td>70</td>\n",
       "      <td>1</td>\n",
       "      <td>ford torino</td>\n",
       "    </tr>\n",
       "  </tbody>\n",
       "</table>\n",
       "</div>"
      ],
      "text/plain": [
       "    mpg  cylinders  displacement  horsepower  weight  acceleration  modelyear  \\\n",
       "0  18.0          8         307.0       130.0  3504.0          12.0         70   \n",
       "1  15.0          8         350.0       165.0  3693.0          11.5         70   \n",
       "2  18.0          8         318.0       150.0  3436.0          11.0         70   \n",
       "3  16.0          8         304.0       150.0  3433.0          12.0         70   \n",
       "4  17.0          8         302.0       140.0  3449.0          10.5         70   \n",
       "\n",
       "   origin                       name  \n",
       "0       1  chevrolet chevelle malibu  \n",
       "1       1          buick skylark 320  \n",
       "2       1         plymouth satellite  \n",
       "3       1              amc rebel sst  \n",
       "4       1                ford torino  "
      ]
     },
     "execution_count": 3,
     "metadata": {},
     "output_type": "execute_result"
    }
   ],
   "source": [
    "columns = ['mpg', 'cylinders', 'displacement', 'horsepower', 'weight', 'acceleration', 'modelyear', 'origin', 'name']\n",
    "auto = pd.read_table('files/auto-mpg.data', delim_whitespace=True, header=None, names=columns)\n",
    "auto.head()"
   ]
  },
  {
   "cell_type": "markdown",
   "metadata": {},
   "source": [
    "Now that you have the data in a DataFrame, write code in cells below to do the following:\n",
    "\n",
    "* show the size of the data - how many rows and columns are there?\n",
    "* select just the `mpg` column, find the mean value of MPG for all cars\n",
    "* select all rows where the value of cylinders is 6, how many are there?\n",
    "* what is the mean MPG for 6 cylinder cars?\n",
    "* create a scatter plot of `mpg` vs `weight`\n",
    "* create a similar plot but just for the 8 cylinder cars\n",
    "\n",
    "You might want to refer to the [Pandas Tutorials](http://pandas.pydata.org/pandas-docs/stable/tutorials.html) or \n",
    " [10 Minutes to Pandas](http://pandas.pydata.org/pandas-docs/stable/10min.html) for some hints."
   ]
  },
  {
   "cell_type": "code",
   "execution_count": 24,
   "metadata": {},
   "outputs": [
    {
     "name": "stdout",
     "output_type": "stream",
     "text": [
      "(392, 9)\n",
      "      mpg  cylinders  displacement  horsepower  weight  acceleration  \\\n",
      "15   22.0          6         198.0        95.0  2833.0          15.5   \n",
      "16   18.0          6         199.0        97.0  2774.0          15.5   \n",
      "17   21.0          6         200.0        85.0  2587.0          16.0   \n",
      "24   21.0          6         199.0        90.0  2648.0          15.0   \n",
      "32   19.0          6         232.0       100.0  2634.0          13.0   \n",
      "33   16.0          6         225.0       105.0  3439.0          15.5   \n",
      "34   17.0          6         250.0       100.0  3329.0          15.5   \n",
      "35   19.0          6         250.0        88.0  3302.0          15.5   \n",
      "36   18.0          6         232.0       100.0  3288.0          15.5   \n",
      "44   18.0          6         258.0       110.0  2962.0          13.5   \n",
      "46   19.0          6         250.0       100.0  3282.0          15.0   \n",
      "47   18.0          6         250.0        88.0  3139.0          14.5   \n",
      "96   18.0          6         225.0       105.0  3121.0          16.5   \n",
      "97   16.0          6         250.0       100.0  3278.0          18.0   \n",
      "98   18.0          6         232.0       100.0  2945.0          16.0   \n",
      "99   18.0          6         250.0        88.0  3021.0          16.5   \n",
      "100  23.0          6         198.0        95.0  2904.0          16.0   \n",
      "106  18.0          6         232.0       100.0  2789.0          15.0   \n",
      "112  21.0          6         155.0       107.0  2472.0          14.0   \n",
      "122  20.0          6         156.0       122.0  2807.0          13.5   \n",
      "124  20.0          6         198.0        95.0  3102.0          16.5   \n",
      "125  19.0          6         232.0       100.0  2901.0          16.0   \n",
      "126  15.0          6         250.0       100.0  3336.0          17.0   \n",
      "131  16.0          6         250.0       100.0  3781.0          17.0   \n",
      "132  16.0          6         258.0       110.0  3632.0          18.0   \n",
      "133  18.0          6         225.0       105.0  3613.0          16.5   \n",
      "150  19.0          6         225.0        95.0  3264.0          16.0   \n",
      "151  18.0          6         250.0       105.0  3459.0          16.0   \n",
      "152  15.0          6         250.0        72.0  3432.0          21.0   \n",
      "153  15.0          6         250.0        72.0  3158.0          19.5   \n",
      "..    ...        ...           ...         ...     ...           ...   \n",
      "250  19.2          6         231.0       105.0  3535.0          19.2   \n",
      "251  20.5          6         200.0        95.0  3155.0          18.2   \n",
      "252  20.2          6         200.0        85.0  2965.0          15.8   \n",
      "254  20.5          6         225.0       100.0  3430.0          17.2   \n",
      "255  19.4          6         232.0        90.0  3210.0          17.2   \n",
      "256  20.6          6         231.0       105.0  3380.0          15.8   \n",
      "257  20.8          6         200.0        85.0  3070.0          16.7   \n",
      "258  18.6          6         225.0       110.0  3620.0          18.7   \n",
      "259  18.1          6         258.0       120.0  3410.0          15.1   \n",
      "261  17.7          6         231.0       165.0  3445.0          13.4   \n",
      "273  17.0          6         163.0       125.0  3140.0          13.6   \n",
      "275  16.2          6         163.0       133.0  3410.0          15.8   \n",
      "278  21.5          6         231.0       115.0  3245.0          15.4   \n",
      "279  19.8          6         200.0        85.0  2990.0          18.2   \n",
      "281  20.2          6         232.0        90.0  3265.0          18.2   \n",
      "282  20.6          6         225.0       110.0  3360.0          16.6   \n",
      "304  28.8          6         173.0       115.0  2595.0          11.3   \n",
      "305  26.8          6         173.0       115.0  2700.0          12.9   \n",
      "314  19.1          6         225.0        90.0  3381.0          18.7   \n",
      "330  32.7          6         168.0       132.0  2910.0          11.4   \n",
      "337  23.5          6         173.0       110.0  2725.0          12.6   \n",
      "355  30.7          6         145.0        76.0  3160.0          19.6   \n",
      "356  25.4          6         168.0       116.0  2900.0          12.6   \n",
      "357  24.2          6         146.0       120.0  2930.0          13.8   \n",
      "358  22.4          6         231.0       110.0  3415.0          15.8   \n",
      "360  20.2          6         200.0        88.0  3060.0          17.1   \n",
      "361  17.6          6         225.0        85.0  3465.0          16.6   \n",
      "380  25.0          6         181.0       110.0  2945.0          16.4   \n",
      "381  38.0          6         262.0        85.0  3015.0          17.0   \n",
      "383  22.0          6         232.0       112.0  2835.0          14.7   \n",
      "\n",
      "     modelyear  origin                               name  \n",
      "15          70       1                    plymouth duster  \n",
      "16          70       1                         amc hornet  \n",
      "17          70       1                      ford maverick  \n",
      "24          70       1                        amc gremlin  \n",
      "32          71       1                        amc gremlin  \n",
      "33          71       1          plymouth satellite custom  \n",
      "34          71       1          chevrolet chevelle malibu  \n",
      "35          71       1                    ford torino 500  \n",
      "36          71       1                        amc matador  \n",
      "44          71       1         amc hornet sportabout (sw)  \n",
      "46          71       1                   pontiac firebird  \n",
      "47          71       1                       ford mustang  \n",
      "96          73       1                   plymouth valiant  \n",
      "97          73       1              chevrolet nova custom  \n",
      "98          73       1                         amc hornet  \n",
      "99          73       1                      ford maverick  \n",
      "100         73       1                    plymouth duster  \n",
      "106         73       1                        amc gremlin  \n",
      "112         73       1                   mercury capri v6  \n",
      "122         73       3                     toyota mark ii  \n",
      "124         74       1                    plymouth duster  \n",
      "125         74       1                         amc hornet  \n",
      "126         74       1                     chevrolet nova  \n",
      "131         74       1  chevrolet chevelle malibu classic  \n",
      "132         74       1                        amc matador  \n",
      "133         74       1         plymouth satellite sebring  \n",
      "150         75       1            plymouth valiant custom  \n",
      "151         75       1                     chevrolet nova  \n",
      "152         75       1                    mercury monarch  \n",
      "153         75       1                      ford maverick  \n",
      "..         ...     ...                                ...  \n",
      "250         78       1                 pontiac phoenix lj  \n",
      "251         78       1                   chevrolet malibu  \n",
      "252         78       1               ford fairmont (auto)  \n",
      "254         78       1                    plymouth volare  \n",
      "255         78       1                        amc concord  \n",
      "256         78       1              buick century special  \n",
      "257         78       1                     mercury zephyr  \n",
      "258         78       1                        dodge aspen  \n",
      "259         78       1                    amc concord d/l  \n",
      "261         78       1    buick regal sport coupe (turbo)  \n",
      "273         78       2                        volvo 264gl  \n",
      "275         78       2                      peugeot 604sl  \n",
      "278         79       1                  pontiac lemans v6  \n",
      "279         79       1                   mercury zephyr 6  \n",
      "281         79       1                   amc concord dl 6  \n",
      "282         79       1                      dodge aspen 6  \n",
      "304         79       1                 chevrolet citation  \n",
      "305         79       1          oldsmobile omega brougham  \n",
      "314         80       1                        dodge aspen  \n",
      "330         80       3                      datsun 280-zx  \n",
      "337         81       1                 chevrolet citation  \n",
      "355         81       2                       volvo diesel  \n",
      "356         81       3                    toyota cressida  \n",
      "357         81       3                  datsun 810 maxima  \n",
      "358         81       1                      buick century  \n",
      "360         81       1                    ford granada gl  \n",
      "361         81       1             chrysler lebaron salon  \n",
      "380         82       1              buick century limited  \n",
      "381         82       1  oldsmobile cutlass ciera (diesel)  \n",
      "383         82       1                     ford granada l  \n",
      "\n",
      "[83 rows x 9 columns]\n",
      "Mean is:  19.973493975903615\n"
     ]
    },
    {
     "data": {
      "image/png": "[encoded data removed]",
      "text/plain": [
       "<Figure size 432x288 with 1 Axes>"
      ]
     },
     "metadata": {
      "needs_background": "light"
     },
     "output_type": "display_data"
    }
   ],
   "source": [
    "# your code here (and make more cells as you need them)\n",
    "print(auto.shape)\n",
    "mpg_col = auto['mpg'].values\n",
    "weight_col = auto['weight'].values\n",
    "carsWith6Cylinders = auto[auto['cylinders']==6]\n",
    "print(carsWith6Cylinders)\n",
    "print(\"Mean is: \", carsWith6Cylinders['mpg'].mean())\n",
    "auto.plot.scatter(x='weight',y='mpg',c='DarkBlue')\n",
    "auto8Cylinders = auto[auto['cylinders']==8]"
   ]
  },
  {
   "cell_type": "markdown",
   "metadata": {},
   "source": [
    "## Adult Data Analysis\n",
    "\n",
    "Next we'll work with a dataset described in Chapter 3 of the text - the [Adult](https://archive.ics.uci.edu/ml/datasets/Adult) dataset:\n",
    "\n",
    "> \"hosted on the UCI’s Machine Learning Repository.1 It contains approximately 32,000 observations concerning different financial parameters related to the US population: age, sex, marital (marital status of the individual), country, income (Boolean variable: whether the person makes more than $50,000 per annum), education (the highest level of education achieved by the individual), occupation, capital gain, etc.\n",
    "\n",
    "The data is stored in a file 'files/adult.data' in this repository. It is in CSV format but the text uses a\n",
    "different method to read it in to a dataframe - the reason is that it is a slightly non-standard format with spaces after the commas.  I've shown an alternate way to read the data below that uses read_csv with appropriate arguments to read the data.  This ensures that it doesn't try to read a header line (since there isn't one) and skips initial spaces in values.  We explicitly set the column names from a list of strings."
   ]
  },
  {
   "cell_type": "code",
   "execution_count": 25,
   "metadata": {},
   "outputs": [
    {
     "data": {
      "text/html": [
       "<div>\n",
       "<style scoped>\n",
       "    .dataframe tbody tr th:only-of-type {\n",
       "        vertical-align: middle;\n",
       "    }\n",
       "\n",
       "    .dataframe tbody tr th {\n",
       "        vertical-align: top;\n",
       "    }\n",
       "\n",
       "    .dataframe thead th {\n",
       "        text-align: right;\n",
       "    }\n",
       "</style>\n",
       "<table border=\"1\" class=\"dataframe\">\n",
       "  <thead>\n",
       "    <tr style=\"text-align: right;\">\n",
       "      <th></th>\n",
       "      <th>age</th>\n",
       "      <th>type_employer</th>\n",
       "      <th>fnlwgt</th>\n",
       "      <th>education</th>\n",
       "      <th>education_num</th>\n",
       "      <th>marital</th>\n",
       "      <th>occupation</th>\n",
       "      <th>relationship</th>\n",
       "      <th>race</th>\n",
       "      <th>sex</th>\n",
       "      <th>capital_gain</th>\n",
       "      <th>capital_loss</th>\n",
       "      <th>hr_per_week</th>\n",
       "      <th>country</th>\n",
       "      <th>income</th>\n",
       "    </tr>\n",
       "  </thead>\n",
       "  <tbody>\n",
       "    <tr>\n",
       "      <th>0</th>\n",
       "      <td>39</td>\n",
       "      <td>State-gov</td>\n",
       "      <td>77516</td>\n",
       "      <td>Bachelors</td>\n",
       "      <td>13</td>\n",
       "      <td>Never-married</td>\n",
       "      <td>Adm-clerical</td>\n",
       "      <td>Not-in-family</td>\n",
       "      <td>White</td>\n",
       "      <td>Male</td>\n",
       "      <td>2174</td>\n",
       "      <td>0</td>\n",
       "      <td>40</td>\n",
       "      <td>United-States</td>\n",
       "      <td>&lt;=50K</td>\n",
       "    </tr>\n",
       "    <tr>\n",
       "      <th>1</th>\n",
       "      <td>50</td>\n",
       "      <td>Self-emp-not-inc</td>\n",
       "      <td>83311</td>\n",
       "      <td>Bachelors</td>\n",
       "      <td>13</td>\n",
       "      <td>Married-civ-spouse</td>\n",
       "      <td>Exec-managerial</td>\n",
       "      <td>Husband</td>\n",
       "      <td>White</td>\n",
       "      <td>Male</td>\n",
       "      <td>0</td>\n",
       "      <td>0</td>\n",
       "      <td>13</td>\n",
       "      <td>United-States</td>\n",
       "      <td>&lt;=50K</td>\n",
       "    </tr>\n",
       "    <tr>\n",
       "      <th>2</th>\n",
       "      <td>38</td>\n",
       "      <td>Private</td>\n",
       "      <td>215646</td>\n",
       "      <td>HS-grad</td>\n",
       "      <td>9</td>\n",
       "      <td>Divorced</td>\n",
       "      <td>Handlers-cleaners</td>\n",
       "      <td>Not-in-family</td>\n",
       "      <td>White</td>\n",
       "      <td>Male</td>\n",
       "      <td>0</td>\n",
       "      <td>0</td>\n",
       "      <td>40</td>\n",
       "      <td>United-States</td>\n",
       "      <td>&lt;=50K</td>\n",
       "    </tr>\n",
       "    <tr>\n",
       "      <th>3</th>\n",
       "      <td>53</td>\n",
       "      <td>Private</td>\n",
       "      <td>234721</td>\n",
       "      <td>11th</td>\n",
       "      <td>7</td>\n",
       "      <td>Married-civ-spouse</td>\n",
       "      <td>Handlers-cleaners</td>\n",
       "      <td>Husband</td>\n",
       "      <td>Black</td>\n",
       "      <td>Male</td>\n",
       "      <td>0</td>\n",
       "      <td>0</td>\n",
       "      <td>40</td>\n",
       "      <td>United-States</td>\n",
       "      <td>&lt;=50K</td>\n",
       "    </tr>\n",
       "    <tr>\n",
       "      <th>4</th>\n",
       "      <td>28</td>\n",
       "      <td>Private</td>\n",
       "      <td>338409</td>\n",
       "      <td>Bachelors</td>\n",
       "      <td>13</td>\n",
       "      <td>Married-civ-spouse</td>\n",
       "      <td>Prof-specialty</td>\n",
       "      <td>Wife</td>\n",
       "      <td>Black</td>\n",
       "      <td>Female</td>\n",
       "      <td>0</td>\n",
       "      <td>0</td>\n",
       "      <td>40</td>\n",
       "      <td>Cuba</td>\n",
       "      <td>&lt;=50K</td>\n",
       "    </tr>\n",
       "  </tbody>\n",
       "</table>\n",
       "</div>"
      ],
      "text/plain": [
       "   age     type_employer  fnlwgt  education  education_num  \\\n",
       "0   39         State-gov   77516  Bachelors             13   \n",
       "1   50  Self-emp-not-inc   83311  Bachelors             13   \n",
       "2   38           Private  215646    HS-grad              9   \n",
       "3   53           Private  234721       11th              7   \n",
       "4   28           Private  338409  Bachelors             13   \n",
       "\n",
       "              marital         occupation   relationship   race     sex  \\\n",
       "0       Never-married       Adm-clerical  Not-in-family  White    Male   \n",
       "1  Married-civ-spouse    Exec-managerial        Husband  White    Male   \n",
       "2            Divorced  Handlers-cleaners  Not-in-family  White    Male   \n",
       "3  Married-civ-spouse  Handlers-cleaners        Husband  Black    Male   \n",
       "4  Married-civ-spouse     Prof-specialty           Wife  Black  Female   \n",
       "\n",
       "   capital_gain  capital_loss  hr_per_week        country income  \n",
       "0          2174             0           40  United-States  <=50K  \n",
       "1             0             0           13  United-States  <=50K  \n",
       "2             0             0           40  United-States  <=50K  \n",
       "3             0             0           40  United-States  <=50K  \n",
       "4             0             0           40           Cuba  <=50K  "
      ]
     },
     "execution_count": 25,
     "metadata": {},
     "output_type": "execute_result"
    }
   ],
   "source": [
    "column_names = ['age', 'type_employer', 'fnlwgt', 'education', 'education_num', \n",
    "                'marital', 'occupation',' relationship', 'race', 'sex', 'capital_gain', \n",
    "                'capital_loss', 'hr_per_week', 'country', 'income']\n",
    "\n",
    "adult = pd.read_csv('files/adult.data', header=None, names=column_names, skipinitialspace=True)\n",
    "adult.head()"
   ]
  },
  {
   "cell_type": "markdown",
   "metadata": {},
   "source": [
    "Follow the textbook examples to complete the tasks below.  Note that cutting and pasting from the text\n",
    "is a bit problematic since they use special quote character in the code - if you try to copy-paste the code you'll get syntax errors. Instead, type out the commands, it might help you remember them better too.\n",
    "\n",
    "The first task is to create separate dataframes for males and females, and for males and females earning over 50K (four dataframes in all).  When you have done this, **display the mean, median and standard deviation of age for each group** (Section 3.3.1).\n",
    "\n",
    "One criticism I have of the code in the text is that they use very short variable names like df and ml2.  I've called the main dataframe `adult`; I suggest you use slightly longer varible names (`males`, `males_high`) to make your code easier to read - although avoid really long names (`males_with_high_income`) as they can make your code hard to read."
   ]
  },
  {
   "cell_type": "code",
   "execution_count": 35,
   "metadata": {},
   "outputs": [
    {
     "name": "stdout",
     "output_type": "stream",
     "text": [
      "Shape of males df:  (21790, 15)\n",
      "Shape of females df:  (10771, 15)\n",
      "Shape of males_high df:  (6662, 15)\n",
      "Shape of females_high df:  (1179, 15)\n",
      "Mean of males is:  39.43354749885268\n",
      "Median age of males is:  38.0\n",
      "std of age of males is:  13.37063019252649\n"
     ]
    }
   ],
   "source": [
    "# your code here\n",
    "males = adult[adult['sex']=='Male']\n",
    "females = adult[adult['sex']=='Female']\n",
    "males_high = adult[(adult['sex']=='Male')&(adult['income']=='>50K')]\n",
    "females_high = adult[(adult['sex']=='Female')&(adult['income']=='>50K')]\n",
    "print(\"Shape of males df: \", males.shape)\n",
    "print(\"Shape of females df: \", females.shape)\n",
    "print(\"Shape of males_high df: \", males_high.shape)\n",
    "print(\"Shape of females_high df: \", females_high.shape)\n",
    "print(\"Mean of males is: \",males['age'].mean())\n",
    "print(\"Median age of males is: \", males['age'].median())\n",
    "print(\"std of age of males is: \", males['age'].std())"
   ]
  },
  {
   "cell_type": "markdown",
   "metadata": {},
   "source": [
    "Plot the distributions of the ages of males and females in the dataset on a single graph (Section 3.3.2 figure 3.2).  Note that you can do without using the seaborn module as in the example, just use `color='indianred'` instead.  Work out ([from the pandas documentation](http://pandas.pydata.org/pandas-docs/)) how to add labels to the axes in your plot - the code in the chapter doesn't show this.\n",
    "\n",
    "Compare your plot with the plot in the textbook.  Does it look the same? If it does, then you made the same error as they did. Compare the y-axis in Figures 3.1 and 3.2 (left) for Males; how many males are aged around 30? \n",
    "\n",
    "**This week's checkpoint is to identify the bug in the textbook code.  Tell your tutor when you've found it.**"
   ]
  },
  {
   "cell_type": "code",
   "execution_count": 36,
   "metadata": {},
   "outputs": [
    {
     "name": "stderr",
     "output_type": "stream",
     "text": [
      "C:\\ProgramData\\Anaconda3\\lib\\site-packages\\matplotlib\\axes\\_axes.py:6521: MatplotlibDeprecationWarning: \n",
      "The 'normed' kwarg was deprecated in Matplotlib 2.1 and will be removed in 3.1. Use 'density' instead.\n",
      "  alternative=\"'density'\", removal=\"3.1\")\n"
     ]
    },
    {
     "data": {
      "text/plain": [
       "<matplotlib.axes._subplots.AxesSubplot at 0x21a659a7128>"
      ]
     },
     "execution_count": 36,
     "metadata": {},
     "output_type": "execute_result"
    },
    {
     "data": {
      "image/png": "[encoded data removed]",
      "text/plain": [
       "<Figure size 432x288 with 1 Axes>"
      ]
     },
     "metadata": {
      "needs_background": "light"
     },
     "output_type": "display_data"
    }
   ],
   "source": [
    "# your code here\n",
    "males_age=males['age']\n",
    "males_age.hist(normed=0, histtype='stepfilled', bins=20)\n",
    "females_age=females['age']\n",
    "females_age.hist(normed=0, histtype='stepfilled', bins=20, color='indianred')"
   ]
  },
  {
   "cell_type": "markdown",
   "metadata": {},
   "source": [
    "## Outliers\n",
    "\n",
    "The text book Section 3.3.3 talks about removing outliers from the data, discarding values that lie a long way from the median or mean value.   For this dataset, they talk about removing any rows where the income is >50K but the age is below 22 or above 72 - basically saying that these values are unlikely to be real.   This is a reasonable thing to do but the code they give for it is buggy.  \n",
    "\n",
    "They show this formula:\n",
    "\n",
    "```\n",
    "df2 = df.drop(df.index[\n",
    "                      (df.income == ’>50K\\n’) &\n",
    "                      (df[’age’] > df[’age’].median() + 35) & (df[’age’] > df[’age’].median() -15)\n",
    "])\n",
    "```\n",
    "\n",
    "Note that they are dropping from the dataframe `df` any rows where the income is high AND the age is greater than 72 (median + 35) AND the age is greater than 22 (median - 15).   So effectively the last term will have no effect.  \n",
    "What they really mean is (age > 72) OR (age < 22).  Here are some expressions that express these constraints. I've printed the length of the dataframe after using the boolean expression to select the rows:"
   ]
  },
  {
   "cell_type": "code",
   "execution_count": 37,
   "metadata": {},
   "outputs": [
    {
     "name": "stdout",
     "output_type": "stream",
     "text": [
      "7841\n",
      "401\n",
      "3130\n",
      "74\n"
     ]
    }
   ],
   "source": [
    "print( len( adult[(adult.income == '>50K')] ))\n",
    "print( len( adult[(adult.age > 72)] ))\n",
    "print( len( adult[(adult.age < 22)] ))\n",
    "print( len( adult[(adult.income == '>50K')  & ((adult.age > 72) | (adult.age < 22))] ))"
   ]
  },
  {
   "cell_type": "markdown",
   "metadata": {},
   "source": [
    "Based on these expressions, we can drop rows outside of the target range using the `drop` method as in the textbook.  Note the use of `adult.index`.  The argument to drop is a series giving the indexes of the rows we want to remove from the dataframe.   So we filter the index of the dataframe using the boolean expression to get this."
   ]
  },
  {
   "cell_type": "code",
   "execution_count": 68,
   "metadata": {},
   "outputs": [
    {
     "data": {
      "text/plain": [
       "count    7767.000000\n",
       "mean       43.965495\n",
       "std        10.044728\n",
       "min        22.000000\n",
       "25%        36.000000\n",
       "50%        43.000000\n",
       "75%        51.000000\n",
       "max        72.000000\n",
       "Name: age, dtype: float64"
      ]
     },
     "execution_count": 68,
     "metadata": {},
     "output_type": "execute_result"
    }
   ],
   "source": [
    "# remove outliers - people with high income who are too old or too young\n",
    "adult_clean = adult.drop( adult.index[(adult.income == '>50K') & \n",
    "                                      ((adult['age'] > 72) | \n",
    "                                       (adult['age'] < 22))]\n",
    "                        )\n",
    "\n",
    "# confirm that we have restricted the range of ages for high earners, should see \n",
    "adult_clean[adult_clean.income=='>50K'].age.describe()"
   ]
  },
  {
   "cell_type": "markdown",
   "metadata": {},
   "source": [
    "Note that unlike in the textbook, the minimum age is now 22 (not 19).\n",
    "\n",
    "Given this filtered dataset, repeat the analysis in the remainder of section 3.3.3 to **determine whether the difference between males and females is changed once outliers are removed**. To do this you will need to compute versions of the male and female high earners age series with and without outliers removed.  You can do this directly from the `adult` and `adult_clean` dataframes."
   ]
  },
  {
   "cell_type": "code",
   "execution_count": 69,
   "metadata": {},
   "outputs": [],
   "source": [
    "# your code here\\\n",
    "male_age_clean = adult_clean[adult_clean['sex']=='Male']\n",
    "female_age_clean = adult_clean[adult_clean['sex']=='Female']\n",
    "m2_age = male_age_clean['age']\n",
    "f2_age = female_age_clean['age']"
   ]
  },
  {
   "cell_type": "markdown",
   "metadata": {},
   "source": [
    "Generate figure 3.5 from the textbook that shows the relative frequency of male an female high earners as a function of age.  Again, label your axes and the plot overall."
   ]
  },
  {
   "cell_type": "code",
   "execution_count": 72,
   "metadata": {},
   "outputs": [
    {
     "name": "stdout",
     "output_type": "stream",
     "text": [
      "17.0\n",
      "24.3\n",
      "31.6\n",
      "38.9\n",
      "46.2\n",
      "53.5\n",
      "60.8\n",
      "68.1\n",
      "75.4\n",
      "82.7\n",
      "90.0\n"
     ]
    },
    {
     "name": "stderr",
     "output_type": "stream",
     "text": [
      "C:\\ProgramData\\Anaconda3\\lib\\site-packages\\ipykernel_launcher.py:2: VisibleDeprecationWarning: Passing `normed=True` on non-uniform bins has always been broken, and computes neither the probability density function nor the probability mass function. The result is only correct if the bins are uniform, when density=True will produce the same result anyway. The argument will be removed in a future version of numpy.\n",
      "  \n",
      "C:\\ProgramData\\Anaconda3\\lib\\site-packages\\ipykernel_launcher.py:3: VisibleDeprecationWarning: Passing `normed=True` on non-uniform bins has always been broken, and computes neither the probability density function nor the probability mass function. The result is only correct if the bins are uniform, when density=True will produce the same result anyway. The argument will be removed in a future version of numpy.\n",
      "  This is separate from the ipykernel package so we can avoid doing imports until\n"
     ]
    }
   ],
   "source": [
    "# your code here\n",
    "countx, divisionx = np.histogram(m2_age, normed = True)\n",
    "county, divisiony = np.histogram(f2_age, normed = True)\n",
    "val = [(divisionx[i] + divisionx[i+1])/2 for i in range(len(divisionx)-1)]\n",
    "for i in range(len(divisionx)):\n",
    "    print(divisionx[i])"
   ]
  },
  {
   "cell_type": "code",
   "execution_count": 75,
   "metadata": {},
   "outputs": [
    {
     "name": "stdout",
     "output_type": "stream",
     "text": [
      "17.0\n",
      "24.3\n",
      "31.6\n",
      "38.9\n",
      "46.2\n",
      "53.5\n",
      "60.8\n",
      "68.1\n",
      "75.4\n",
      "82.7\n",
      "90.0\n"
     ]
    }
   ],
   "source": [
    "for i in range(len(divisiony)):\n",
    "    print(divisiony[i])"
   ]
  },
  {
   "cell_type": "code",
   "execution_count": 76,
   "metadata": {},
   "outputs": [
    {
     "data": {
      "text/plain": [
       "[<matplotlib.lines.Line2D at 0x21a65d89128>]"
      ]
     },
     "execution_count": 76,
     "metadata": {},
     "output_type": "execute_result"
    },
    {
     "data": {
      "image/png": "[encoded data removed]",
      "text/plain": [
       "<Figure size 432x288 with 1 Axes>"
      ]
     },
     "metadata": {
      "needs_background": "light"
     },
     "output_type": "display_data"
    }
   ],
   "source": [
    "plt.plot(val, countx-county, 'o-')"
   ]
  },
  {
   "cell_type": "markdown",
   "metadata": {},
   "source": [
    "Finally, use the **Pearson’s median skewness coefficient** from Section 3.3.4 to confirm the difference in the shape of the distribution of male and female age distributions. "
   ]
  },
  {
   "cell_type": "code",
   "execution_count": 77,
   "metadata": {},
   "outputs": [
    {
     "name": "stdout",
     "output_type": "stream",
     "text": [
      "Pearson's coefficient of the male population =  57.50230041174153\n",
      "Pearson's coefficient of the female population =  78.12203531109172\n"
     ]
    }
   ],
   "source": [
    "# your code here\n",
    "def pearson(x):\n",
    "    return 3*(x.mean() - x.median())*x.std()\n",
    "print(\"Pearson's coefficient of the male population = \",pearson(males.age))\n",
    "print(\"Pearson's coefficient of the female population = \",pearson(females.age))\n"
   ]
  },
  {
   "cell_type": "markdown",
   "metadata": {},
   "source": [
    "Summarise the results of your analysis. Do you reach the same conclusion as the textbook? What if any differences do you observe with the correct removal of outliers?"
   ]
  },
  {
   "cell_type": "markdown",
   "metadata": {},
   "source": [
    "## your analysis here"
   ]
  },
  {
   "cell_type": "markdown",
   "metadata": {},
   "source": [
    "## Challenge\n",
    "\n",
    "If you complete this work in plenty of time, explore the dataset a little more to \n",
    "familiarise yourself with some other features of Pandas dataframes. Example questions might be:\n",
    "\n",
    "- does education level have an effect on income? Use [groupby](http://pandas.pydata.org/pandas-docs/stable/groupby.html) to look at the different values of the education variable and the number\n",
    "of records in each group.  Select one or two groups and compare the low and high income bands for these. \n",
    "- The `education_num` column is (I think) a numerical measure of the level of education of the person - higher for a higher level of qualification.  Look at the difference in this variable for groups defined by the `marital` variable: are married people more or less highly educated than those who are single?\n"
   ]
  }
 ],
 "metadata": {
  "kernelspec": {
   "display_name": "Python 3",
   "language": "python",
   "name": "python3"
  },
  "language_info": {
   "codemirror_mode": {
    "name": "ipython",
    "version": 3
   },
   "file_extension": ".py",
   "mimetype": "text/x-python",
   "name": "python",
   "nbconvert_exporter": "python",
   "pygments_lexer": "ipython3",
   "version": "3.7.3"
  }
 },
 "nbformat": 4,
 "nbformat_minor": 2
}
